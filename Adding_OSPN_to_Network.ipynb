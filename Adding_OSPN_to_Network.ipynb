{
 "cells": [
  {
   "cell_type": "code",
   "execution_count": 1,
   "outputs": [
    {
     "name": "stderr",
     "output_type": "stream",
     "text": [
      "C:\\Users\\raffy\\anaconda3\\envs\\ATN_Devon\\lib\\site-packages\\geopandas\\_compat.py:110: UserWarning: The Shapely GEOS version (3.8.0-CAPI-1.13.1 ) is incompatible with the GEOS version PyGEOS was compiled with (3.10.1-CAPI-1.16.0). Conversions between both will be slow.\n",
      "  shapely_geos_version, geos_capi_version_string\n"
     ]
    }
   ],
   "source": [
    "from shapely.geometry import Point,mapping, LineString, Polygon, MultiPoint\n",
    "import numpy as np\n",
    "import rasterio\n",
    "from rasterio import plot, mask\n",
    "from rtree import index\n",
    "import networkx as nx\n",
    "import geopandas as gpd\n",
    "import os\n",
    "import matplotlib.pyplot as plt\n",
    "from cartopy import crs"
   ],
   "metadata": {
    "collapsed": false,
    "pycharm": {
     "name": "#%%\n"
    }
   }
  },
  {
   "cell_type": "code",
   "execution_count": 2,
   "metadata": {
    "collapsed": true
   },
   "outputs": [],
   "source": [
    "OS_National_Grids = gpd.read_file(os.path.join('OS-British-National-Grids-main','OS-British-National-Grids-main','os_bng_grids.gpkg'),layer='1km_grid')"
   ]
  },
  {
   "cell_type": "code",
   "execution_count": 3,
   "outputs": [],
   "source": [
    "study_area_shapely = OS_National_Grids[OS_National_Grids['tile_name'] == \"SX7677\"].geometry.cascaded_union"
   ],
   "metadata": {
    "collapsed": false,
    "pycharm": {
     "name": "#%%\n"
    }
   }
  },
  {
   "cell_type": "code",
   "execution_count": 4,
   "outputs": [],
   "source": [
    "Haytor_map = rasterio.open(\n",
    "        os.path.join('OS Explorer Maps', 'Download_SX77-Haytor_2033809', 'raster-25k_4596071', 'sx', 'sx77.tif'))\n",
    "elevation = rasterio.open(os.path.join('OS Elevation','Download_Haytor_Elevation_2035988','terrain-5-dtm_4600215','sx','SX77NE.asc'))\n",
    "\n",
    "study_area = mapping(study_area_shapely)\n",
    "elevation_mask, transform_index = mask.mask(elevation,[study_area], filled=False, crop=False)\n",
    "\n",
    "network_links = gpd.read_file(os.path.join('Study_area','SX7677','network_links.geojson'))\n",
    "network_nodes = gpd.read_file(os.path.join('Study_area','SX7677','network_nodes.geojson'))\n"
   ],
   "metadata": {
    "collapsed": false,
    "pycharm": {
     "name": "#%%\n"
    }
   }
  },
  {
   "cell_type": "markdown",
   "source": [
    "##  3. OS Detailed Path Network"
   ],
   "metadata": {
    "collapsed": false
   }
  },
  {
   "cell_type": "code",
   "execution_count": 5,
   "outputs": [],
   "source": [
    "path_network = gpd.read_file(os.path.join('Detailed-Path-Network', 'DARTMOOR NATIONAL PARK.gml'),layer='RouteLink')"
   ],
   "metadata": {
    "collapsed": false,
    "pycharm": {
     "name": "#%%\n"
    }
   }
  },
  {
   "cell_type": "code",
   "execution_count": 6,
   "outputs": [
    {
     "name": "stderr",
     "output_type": "stream",
     "text": [
      "C:\\Users\\raffy\\anaconda3\\envs\\ATN_Devon\\lib\\site-packages\\pygeos\\set_operations.py:129: RuntimeWarning: invalid value encountered in intersection\n",
      "  return lib.intersection(a, b, **kwargs)\n"
     ]
    }
   ],
   "source": [
    "OSDPN= path_network.intersection(study_area_shapely)\n",
    "OSDPN= OSDPN[~OSDPN.is_empty]\n",
    "OSDPN_gpd = gpd.GeoDataFrame(geometry=OSDPN)"
   ],
   "metadata": {
    "collapsed": false,
    "pycharm": {
     "name": "#%%\n"
    }
   }
  },
  {
   "cell_type": "code",
   "execution_count": 88,
   "outputs": [
    {
     "data": {
      "text/plain": "<matplotlib.axes._subplots.AxesSubplot at 0x25a63da1bc8>"
     },
     "execution_count": 88,
     "metadata": {},
     "output_type": "execute_result"
    },
    {
     "data": {
      "text/plain": "<Figure size 432x288 with 1 Axes>",
      "image/png": "[encoded data removed]"
     },
     "metadata": {
      "needs_background": "light"
     },
     "output_type": "display_data"
    }
   ],
   "source": [
    "row1=OSDPN_gpd.iloc[0]\n",
    "first_path_gpd = gpd.GeoSeries(row1)\n",
    "intersects = {}\n",
    "geom_points = []\n",
    "height = []\n",
    "fid = []\n",
    "count = 1\n",
    "previous_point = 0\n",
    "for index2, row2 in network_links.iterrows():\n",
    "    intersecting_point = row1.geometry.intersection(row2.geometry)\n",
    "    if not intersecting_point.is_empty:\n",
    "        if intersecting_point != previous_point:\n",
    "            network_node = [(Point(row2['geometry'].bounds[0],row2['geometry'].bounds[1])),(Point(row2['geometry'].bounds[2],row2['geometry'].bounds[3]))]\n",
    "            if intersecting_point.geom_type != 'MultiPoint':\n",
    "                intersects[count]= intersecting_point\n",
    "                geom_points.append(intersecting_point)\n",
    "                height.append(intersecting_point.z)\n",
    "                intersecting_point_fid = 'dpn_' + str(count)\n",
    "                fid.append(intersecting_point_fid)\n",
    "\n",
    "                count = count + 1\n",
    "            else:\n",
    "                for pt in intersecting_point:\n",
    "                    intersects[count]=(Point(pt.x, pt.y,pt.z))\n",
    "                    geom_points.append(Point(pt.x, pt.y,pt.z))\n",
    "                    height.append(pt.z)\n",
    "                    intersecting_point_fid = 'al+dpn_' + str(count)\n",
    "                    fid.append(intersecting_point_fid)\n",
    "\n",
    "                    count = count + 1\n",
    "\n",
    "            previous_point = intersecting_point\n",
    "\n",
    "DPN_paths_nodes = gpd.GeoDataFrame({'fid': fid,'height':height,'DPN': 1, 'geometry': geom_points},crs = 27700)\n",
    "points = MultiPoint(geom_points)\n",
    "DPN_paths_nodes.plot()"
   ],
   "metadata": {
    "collapsed": false,
    "pycharm": {
     "name": "#%%\n"
    }
   }
  },
  {
   "cell_type": "code",
   "execution_count": 89,
   "outputs": [],
   "source": [
    "import shapely as shapely\n",
    "from shapely.ops import split,snap\n",
    "points_2d = shapely.wkb.loads(shapely.wkb.dumps(points, output_dimension=2))\n",
    "line_2d = shapely.wkb.loads(shapely.wkb.dumps(row1.geometry, output_dimension=2))"
   ],
   "metadata": {
    "collapsed": false,
    "pycharm": {
     "name": "#%%\n"
    }
   }
  },
  {
   "cell_type": "code",
   "execution_count": 90,
   "outputs": [
    {
     "name": "stdout",
     "output_type": "stream",
     "text": [
      "False\n",
      "0.0\n",
      "True\n",
      "False\n",
      "5.91692380920455e-12\n",
      "True\n",
      "False\n",
      "6.754564637466291e-13\n",
      "True\n",
      "False\n",
      "5.04241075309588e-12\n",
      "True\n",
      "False\n",
      "1.5090894411554437e-12\n",
      "True\n"
     ]
    }
   ],
   "source": [
    "for point in points_2d:\n",
    "    print(line_2d.within(point))\n",
    "    print(line_2d.distance(point))\n",
    "    print(line_2d.distance(point) < 1e-8)"
   ],
   "metadata": {
    "collapsed": false,
    "pycharm": {
     "name": "#%%\n"
    }
   }
  },
  {
   "cell_type": "code",
   "execution_count": 91,
   "outputs": [
    {
     "data": {
      "text/plain": "<shapely.geometry.multipoint.MultiPoint at 0x25a68074308>",
      "image/svg+xml": "<svg xmlns=\"http://www.w3.org/2000/svg\" xmlns:xlink=\"http://www.w3.org/1999/xlink\" width=\"100.0\" height=\"100.0\" viewBox=\"275998.418 77099.304 42.713999999978114 8.359055318927858\" preserveAspectRatio=\"xMinYMin meet\"><g transform=\"matrix(1,0,0,-1,0,154206.96705531894)\"><g><circle cx=\"276000.0\" cy=\"77106.08105531894\" r=\"1.2814199999993434\" stroke=\"#555555\" stroke-width=\"0.42713999999978114\" fill=\"#66cc99\" opacity=\"0.6\" /><circle cx=\"276005.3750238132\" cy=\"77105.37502381323\" r=\"1.2814199999993434\" stroke=\"#555555\" stroke-width=\"0.42713999999978114\" fill=\"#66cc99\" opacity=\"0.6\" /><circle cx=\"276021.7798127484\" cy=\"77103.22018725157\" r=\"1.2814199999993434\" stroke=\"#555555\" stroke-width=\"0.42713999999978114\" fill=\"#66cc99\" opacity=\"0.6\" /><circle cx=\"276025.0\" cy=\"77102.79720239925\" r=\"1.2814199999993434\" stroke=\"#555555\" stroke-width=\"0.42713999999978114\" fill=\"#66cc99\" opacity=\"0.6\" /><circle cx=\"276027.47243754874\" cy=\"77102.47243754873\" r=\"1.2814199999993434\" stroke=\"#555555\" stroke-width=\"0.42713999999978114\" fill=\"#66cc99\" opacity=\"0.6\" /><circle cx=\"276039.55\" cy=\"77100.886\" r=\"1.2814199999993434\" stroke=\"#555555\" stroke-width=\"0.42713999999978114\" fill=\"#66cc99\" opacity=\"0.6\" /></g></g></svg>"
     },
     "execution_count": 91,
     "metadata": {},
     "output_type": "execute_result"
    }
   ],
   "source": [
    "#adding the points to the linestring\n",
    "line_coords = MultiPoint([Point(points) for points in line_2d.coords])\n",
    "#line_coords_gpd = gpd.GeoDataFrame(geometry=line_coords)\n",
    "union = points_2d.union(line_coords)\n",
    "union"
   ],
   "metadata": {
    "collapsed": false,
    "pycharm": {
     "name": "#%%\n"
    }
   }
  },
  {
   "cell_type": "code",
   "execution_count": 92,
   "outputs": [
    {
     "data": {
      "text/plain": "<shapely.geometry.linestring.LineString at 0x25a68f78e88>",
      "image/svg+xml": "<svg xmlns=\"http://www.w3.org/2000/svg\" xmlns:xlink=\"http://www.w3.org/1999/xlink\" width=\"100.0\" height=\"100.0\" viewBox=\"275998.418 77099.304 42.713999999978114 8.359055318927858\" preserveAspectRatio=\"xMinYMin meet\"><g transform=\"matrix(1,0,0,-1,0,154206.96705531894)\"><polyline fill=\"none\" stroke=\"#66cc99\" stroke-width=\"0.8542799999995623\" points=\"276000.0,77106.08105531894 276005.3750238132,77105.37502381323 276021.7798127484,77103.22018725157 276025.0,77102.79720239925 276027.47243754874,77102.47243754873 276039.55,77100.886\" opacity=\"0.8\" /></g></svg>"
     },
     "execution_count": 92,
     "metadata": {},
     "output_type": "execute_result"
    }
   ],
   "source": [
    "# converting points to linestring\n",
    "line = LineString(union)\n",
    "line"
   ],
   "metadata": {
    "collapsed": false,
    "pycharm": {
     "name": "#%%\n"
    }
   }
  },
  {
   "cell_type": "code",
   "execution_count": 93,
   "outputs": [],
   "source": [
    "# test point extracted from linestring works\n",
    "point = Point(276177.297,77067.649)"
   ],
   "metadata": {
    "collapsed": false,
    "pycharm": {
     "name": "#%%\n"
    }
   }
  },
  {
   "cell_type": "code",
   "execution_count": 94,
   "outputs": [
    {
     "data": {
      "text/plain": "<matplotlib.axes._subplots.AxesSubplot at 0x25a696a5f88>"
     },
     "execution_count": 94,
     "metadata": {},
     "output_type": "execute_result"
    },
    {
     "data": {
      "text/plain": "<Figure size 432x288 with 1 Axes>",
      "image/png": "[encoded data removed]"
     },
     "metadata": {
      "needs_background": "light"
     },
     "output_type": "display_data"
    }
   ],
   "source": [
    "splitted = split(line,points_2d)\n",
    "splitted.wkt\n",
    "lines = []\n",
    "for lin in splitted:\n",
    "    lines.append(lin)\n",
    "splitted_lines = gpd.GeoSeries(lines)\n",
    "splitted_lines.plot()"
   ],
   "metadata": {
    "collapsed": false,
    "pycharm": {
     "name": "#%%\n"
    }
   }
  },
  {
   "cell_type": "code",
   "execution_count": 95,
   "outputs": [
    {
     "name": "stderr",
     "output_type": "stream",
     "text": [
      "C:\\Users\\raffy\\anaconda3\\envs\\ATN_Devon\\lib\\site-packages\\ipykernel_launcher.py:8: UserWarning: The default value for the *approx* keyword argument to OSGB will change from True to False after 0.18.\n",
      "  \n",
      "C:\\Users\\raffy\\anaconda3\\envs\\ATN_Devon\\lib\\site-packages\\ipykernel_launcher.py:32: UserWarning: The default value for the *approx* keyword argument to OSGB will change from True to False after 0.18.\n"
     ]
    },
    {
     "data": {
      "text/plain": "<Figure size 900x900 with 1 Axes>",
      "image/png": "[encoded data removed]"
     },
     "metadata": {
      "needs_background": "light"
     },
     "output_type": "display_data"
    }
   ],
   "source": [
    "back_array = Haytor_map.read(1)\n",
    "palette = np.array([value for key, value in Haytor_map.colormap(1).items()])\n",
    "background_image = palette[back_array]\n",
    "bounds = Haytor_map.bounds\n",
    "extent = (bounds.left, bounds.right, bounds.bottom, bounds.top)\n",
    "\n",
    "fig = plt.figure(figsize=(3, 3), dpi=300)\n",
    "ax = fig.add_subplot(1, 1, 1, projection=crs.OSGB())\n",
    "\n",
    "ax.imshow(background_image, origin='upper', extent=extent, zorder=0)\n",
    "\n",
    "# display elevation\n",
    "rasterio.plot.show(elevation_mask, alpha=0.6, transform=transform_index, ax=ax, zorder=1,\n",
    "                   cmap='terrain')\n",
    "# displaying nodes\n",
    "network_nodes.plot(ax=ax, zorder=3, markersize=0.2, alpha=0.3)\n",
    "\n",
    "# displaying links\n",
    "network_links.plot(ax=ax, zorder=2, edgecolor='blue', linewidth=0.2, alpha=0.3)\n",
    "\n",
    "#\n",
    "DPN_paths_nodes.plot(ax=ax,zorder=6,color='green',markersize=0.5)\n",
    "#snapped_points_2d_gpd.plot(ax=ax,zorder=6,color='red',markersize=0.5)\n",
    "first_path_gpd.plot(ax=ax,zorder = 4,color='red', linewidth=0.4)\n",
    "splitted_lines.plot(ax=ax,zorder = 5,color='orange', linewidth=0.4)\n",
    "# DPN_paths_nodes.plot(ax=ax,zorder = 5,markersize=0.2)\n",
    "# DPN_paths_links.plot(ax=ax,zorder = 4, linewidth=0.2)\n",
    "\n",
    "display_extent = ((first_path_gpd.total_bounds[0] - 10, first_path_gpd.total_bounds[2] + 10,\n",
    "                   first_path_gpd.total_bounds[1] - 10, first_path_gpd.total_bounds[3] + 10))\n",
    "\n",
    "ax.set_extent(display_extent, crs=crs.OSGB())\n",
    "plt.show()\n",
    "\n"
   ],
   "metadata": {
    "collapsed": false,
    "pycharm": {
     "name": "#%%\n"
    }
   }
  }
 ],
 "metadata": {
  "kernelspec": {
   "name": "pycharm-357fcc9b",
   "language": "python",
   "display_name": "PyCharm (Research Project)"
  },
  "language_info": {
   "codemirror_mode": {
    "name": "ipython",
    "version": 2
   },
   "file_extension": ".py",
   "mimetype": "text/x-python",
   "name": "python",
   "nbconvert_exporter": "python",
   "pygments_lexer": "ipython2",
   "version": "2.7.6"
  }
 },
 "nbformat": 4,
 "nbformat_minor": 0
}