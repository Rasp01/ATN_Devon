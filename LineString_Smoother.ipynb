{
 "cells": [
  {
   "cell_type": "code",
   "execution_count": 8,
   "metadata": {
    "collapsed": true
   },
   "outputs": [],
   "source": [
    "from shapely import geometry, ops\n",
    "from shapely.geometry import LineString\n",
    "from scipy.ndimage import filters\n",
    "import geopandas as gpd\n",
    "import os\n",
    "import numpy as np"
   ]
  },
  {
   "cell_type": "code",
   "execution_count": 9,
   "outputs": [],
   "source": [
    "land_use_path_gpd = gpd.read_file(os.path.join('Study_area','SX7677','land_use_path_gpd.geojson'))"
   ],
   "metadata": {
    "collapsed": false,
    "pycharm": {
     "name": "#%%\n"
    }
   }
  },
  {
   "cell_type": "code",
   "execution_count": 10,
   "outputs": [],
   "source": [
    "geom = land_use_path_gpd['geometry'].tolist()"
   ],
   "metadata": {
    "collapsed": false,
    "pycharm": {
     "name": "#%%\n"
    }
   }
  },
  {
   "cell_type": "code",
   "execution_count": 11,
   "outputs": [
    {
     "data": {
      "text/plain": "<shapely.geometry.linestring.LineString at 0x160bb41c888>",
      "image/svg+xml": "<svg xmlns=\"http://www.w3.org/2000/svg\" xmlns:xlink=\"http://www.w3.org/1999/xlink\" width=\"300\" height=\"300\" viewBox=\"275960.0 76960.0 1080.0 805.0\" preserveAspectRatio=\"xMinYMin meet\"><g transform=\"matrix(1,0,0,-1,0,154725.0)\"><polyline fill=\"none\" stroke=\"#66cc99\" stroke-width=\"7.2\" points=\"277000.0,77725.0 277000.0,77700.0 276975.0,77675.0 276975.0,77650.0 276975.0,77625.0 276950.0,77600.0 276950.0,77575.0 276925.0,77550.0 276925.0,77525.0 276925.0,77500.0 276900.0,77475.0 276900.0,77450.0 276900.0,77425.0 276875.0,77400.0 276875.0,77375.0 276850.0,77350.0 276825.0,77350.0 276800.0,77325.0 276775.0,77300.0 276750.0,77275.0 276725.0,77250.0 276700.0,77225.0 276675.0,77200.0 276650.0,77175.0 276625.0,77175.0 276600.0,77200.0 276575.0,77175.0 276550.0,77150.0 276525.0,77125.0 276500.0,77100.0 276475.0,77100.0 276450.0,77100.0 276425.0,77100.0 276400.0,77075.0 276375.0,77100.0 276350.0,77100.0 276350.0,77075.0 276325.0,77050.0 276300.0,77025.0 276275.0,77000.0 276250.0,77000.0 276225.0,77000.0 276200.0,77000.0 276175.0,77000.0 276150.0,77000.0 276125.0,77000.0 276100.0,77000.0 276075.0,77025.0 276050.0,77050.0 276025.0,77075.0 276000.0,77100.0 276000.0,77125.0\" opacity=\"0.8\" /></g></svg>"
     },
     "execution_count": 11,
     "metadata": {},
     "output_type": "execute_result"
    }
   ],
   "source": [
    "# https://gis.stackexchange.com/questions/223447/welding-individual-line-segments-into-one-linestring-using-shapely\n",
    "multi_line = geometry.MultiLineString(geom)\n",
    "multi_line\n",
    "merge_line = ops.linemerge(multi_line)\n",
    "merge_line"
   ],
   "metadata": {
    "collapsed": false,
    "pycharm": {
     "name": "#%%\n"
    }
   }
  },
  {
   "cell_type": "code",
   "execution_count": 12,
   "outputs": [
    {
     "data": {
      "text/plain": "<shapely.geometry.linestring.LineString at 0x160bb43fc08>",
      "image/svg+xml": "<svg xmlns=\"http://www.w3.org/2000/svg\" xmlns:xlink=\"http://www.w3.org/1999/xlink\" width=\"300\" height=\"300\" viewBox=\"275960.0 76960.0 1080.0 805.0\" preserveAspectRatio=\"xMinYMin meet\"><g transform=\"matrix(1,0,0,-1,0,154725.0)\"><polyline fill=\"none\" stroke=\"#66cc99\" stroke-width=\"7.2\" points=\"277000.0,77725.0 276875.0,77375.0 276650.0,77175.0 276600.0,77200.0 276500.0,77100.0 276400.0,77075.0 276350.0,77100.0 276275.0,77000.0 276100.0,77000.0 276000.0,77125.0\" opacity=\"0.8\" /></g></svg>"
     },
     "execution_count": 12,
     "metadata": {},
     "output_type": "execute_result"
    }
   ],
   "source": [
    "simplify_line = merge_line.simplify(20,preserve_topology=False)\n",
    "simplify_line"
   ],
   "metadata": {
    "collapsed": false,
    "pycharm": {
     "name": "#%%\n"
    }
   }
  },
  {
   "cell_type": "code",
   "execution_count": 14,
   "outputs": [
    {
     "data": {
      "text/plain": "<shapely.geometry.linestring.LineString at 0x160bb433dc8>",
      "image/svg+xml": "<svg xmlns=\"http://www.w3.org/2000/svg\" xmlns:xlink=\"http://www.w3.org/1999/xlink\" width=\"300\" height=\"300\" viewBox=\"275963.5868954618 76960.28475784983 1073.2934225286008 790.3128438022395\" preserveAspectRatio=\"xMinYMin meet\"><g transform=\"matrix(1,0,0,-1,0,154710.8823595019)\"><polyline fill=\"none\" stroke=\"#66cc99\" stroke-width=\"7.1552894835240055\" points=\"276997.12870974856,77710.84599341027 276991.58857391315,77696.66149629642 276982.94280090183,77674.53137481495 276974.96645737416,77649.96363390837 276966.65565916477,77624.9985882671 276955.90530967724,77600.0 276944.09469032276,77575.0 276933.34434083523,77550.0 276925.0321308929,77525.0 276917.02224473946,77500.0 276907.97775526054,77475.0 276899.96645737416,77450.00141173291 276891.62070480606,77425.03354262582 276880.4730505838,77400.39871646761 276866.2234000714,77377.47116205092 276847.49388359033,77358.34434083523 276824.59987179947,77341.65565916478 276799.96645737416,77322.52883794908 276774.9985882671,77299.6012835324 276750.0,77274.96786910709 276725.0,77250.03495435874 276700.0,77225.46580171926 276675.0,77203.26859498612 276650.0,77188.28666493707 276625.0,77183.34434083523 276600.0,77180.84156801154 276575.0,77169.6939137893 276550.0,77149.60269526532 276525.0,77127.83492415978 276500.0,77111.21421935374 276475.0,77102.53965903548 276450.00141173287,77098.35981351009 276425.03354262584,77094.1268212157 276400.3987164676,77091.25642257703 276377.4711620509,77091.22198833845 276358.34434083523,77086.67979243712 276341.65565916477,77071.76494763972 276322.5288379491,77049.96786910709 276299.6012835324,77027.8684667856 276274.96645737416,77011.24776197957 276249.9985882671,77002.90483287725 276225.0,77000.43367082633 276200.0,77000.03636609163 276175.0,77000.03636609163 276150.0,77000.43367082633 276125.0,77002.90483287725 276100.0014117329,77011.24917371248 276075.03495435877,77027.90342114434 276050.4336708264,77050.39730473468 276027.90624461015,77074.56632917367 276011.2841280712,77096.66290802934 276003.3385037036,77110.84599341029\" opacity=\"0.8\" /></g></svg>"
     },
     "execution_count": 14,
     "metadata": {},
     "output_type": "execute_result"
    }
   ],
   "source": [
    "#https://programtalk.com/python-examples/shapely.geometry.LineString/\n",
    "\n",
    "\n",
    "def smooth_linestring(linestring, smooth_sigma):\n",
    "    \"\"\"\n",
    "    Uses a gauss filter to smooth out the LineString coordinates.\n",
    "    \"\"\"\n",
    "    smooth_x = np.array(filters.gaussian_filter1d(\n",
    "        linestring.xy[0],\n",
    "        smooth_sigma)\n",
    "        )\n",
    "    smooth_y = np.array(filters.gaussian_filter1d(\n",
    "        linestring.xy[1],\n",
    "        smooth_sigma)\n",
    "        )\n",
    "    smoothed_coords = np.hstack((smooth_x, smooth_y))\n",
    "    smoothed_coords = zip(smooth_x, smooth_y)\n",
    "    linestring_smoothed = LineString(smoothed_coords)\n",
    "    return linestring_smoothed\n",
    "\n",
    "linestring_smoother = smooth_linestring(merge_line,1.2)\n",
    "linestring_smoother"
   ],
   "metadata": {
    "collapsed": false,
    "pycharm": {
     "name": "#%%\n"
    }
   }
  }
 ],
 "metadata": {
  "kernelspec": {
   "name": "pycharm-357fcc9b",
   "language": "python",
   "display_name": "PyCharm (Research Project)"
  },
  "language_info": {
   "codemirror_mode": {
    "name": "ipython",
    "version": 2
   },
   "file_extension": ".py",
   "mimetype": "text/x-python",
   "name": "python",
   "nbconvert_exporter": "python",
   "pygments_lexer": "ipython2",
   "version": "2.7.6"
  }
 },
 "nbformat": 4,
 "nbformat_minor": 0
}